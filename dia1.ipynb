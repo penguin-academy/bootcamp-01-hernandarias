{
 "cells": [
  {
   "cell_type": "code",
   "execution_count": 1,
   "metadata": {},
   "outputs": [
    {
     "name": "stdout",
     "output_type": "stream",
     "text": [
      "hello world\n"
     ]
    }
   ],
   "source": [
    "print(\"hello world\")"
   ]
  },
  {
   "cell_type": "markdown",
   "metadata": {},
   "source": [
    "## Variables"
   ]
  },
  {
   "cell_type": "code",
   "execution_count": null,
   "metadata": {},
   "outputs": [],
   "source": [
    "nombre = \"Ana\""
   ]
  },
  {
   "cell_type": "code",
   "execution_count": 6,
   "metadata": {},
   "outputs": [
    {
     "name": "stdout",
     "output_type": "stream",
     "text": [
      "9\n"
     ]
    }
   ],
   "source": [
    "texto = \"esto es un texto\" # texto -> strings -> str\n",
    "numeros = 8 # numero -> integer -> int\n",
    "numeros_decimales = 3.99 # numero decimal -> floating -> float\n",
    "booleano =  False # Booleano -> bool\n",
    "\n",
    "\n",
    "numeros = 9\n",
    "\n",
    "print(numeros)"
   ]
  },
  {
   "cell_type": "markdown",
   "metadata": {},
   "source": [
    "## Operadores aritmeticos"
   ]
  },
  {
   "cell_type": "code",
   "execution_count": 12,
   "metadata": {},
   "outputs": [
    {
     "name": "stdout",
     "output_type": "stream",
     "text": [
      "22000\n",
      "12000\n",
      "36000\n",
      "18000.0\n",
      "9.0\n"
     ]
    }
   ],
   "source": [
    "# suma\n",
    "precio_total = 7000 + 10000 + 5000\n",
    "print(precio_total)\n",
    "\n",
    "# resta \n",
    "total_con_descuento = precio_total - 10000\n",
    "print(total_con_descuento)\n",
    "\n",
    "# multiplicaciones\n",
    "\n",
    "precio_gaseosa = 12000\n",
    "cantidad = 3\n",
    "total = precio_gaseosa * cantidad\n",
    "print(total)\n",
    "\n",
    "# Dividir\n",
    "\n",
    "cantidad_de_personas = 2\n",
    "vaquita = total / cantidad_de_personas\n",
    "print(vaquita)\n",
    "\n",
    "print(2 * 2 + 12 / 2 - 1)"
   ]
  },
  {
   "cell_type": "markdown",
   "metadata": {},
   "source": [
    "## Challenge 🤺 - 15m\n",
    "\n",
    "Suma: asignar dos números en dos variables diferentes `cantidad_de_manzanas` y `cantidad_de_naranjas`. Luego sumar ambas variables en `cantidad_de_frutas`. Imprimir la última variable.\n",
    "\n",
    "Resta: asignar un valor numérico a la variable `frutas_vendidas`. Luego, asignar la resta entre `cantidad_de_frutas` y `frutas_vendidas` a la variable `frutas_restantes`. Imprimir la última variable."
   ]
  },
  {
   "cell_type": "markdown",
   "metadata": {},
   "source": [
    "## Solucion de Nelson 🔧"
   ]
  },
  {
   "cell_type": "code",
   "execution_count": 14,
   "metadata": {},
   "outputs": [
    {
     "name": "stdout",
     "output_type": "stream",
     "text": [
      "8\n",
      "3\n"
     ]
    }
   ],
   "source": [
    "#suma\n",
    "cantidad_de_manzanas = 5\n",
    "cantidad_de_naranjas = 3\n",
    "cantidad_de_frutas = cantidad_de_manzanas + cantidad_de_naranjas\n",
    "\n",
    "print(cantidad_de_frutas)\n",
    "# resta\n",
    "frutas_vendidas = 5\n",
    "frutas_restantes = cantidad_de_frutas - frutas_vendidas\n",
    "print(frutas_restantes)\n"
   ]
  },
  {
   "cell_type": "markdown",
   "metadata": {},
   "source": [
    "## Solucion de Belen ⭐"
   ]
  },
  {
   "cell_type": "code",
   "execution_count": 15,
   "metadata": {},
   "outputs": [
    {
     "name": "stdout",
     "output_type": "stream",
     "text": [
      "13\n",
      "3\n"
     ]
    }
   ],
   "source": [
    "Cantidad_de_manzanas = 8 \n",
    "Cantidad_de_naranjas = 5\n",
    "cantidad_de_frutas = Cantidad_de_manzanas + Cantidad_de_naranjas\n",
    "print (cantidad_de_frutas)\n",
    "\n",
    "Frutas_vendidas = 10\n",
    "Frutas_reestantes = cantidad_de_frutas - Frutas_vendidas\n",
    "print(Frutas_reestantes)"
   ]
  },
  {
   "cell_type": "markdown",
   "metadata": {},
   "source": [
    "## Concatenar texto"
   ]
  },
  {
   "cell_type": "code",
   "execution_count": 24,
   "metadata": {},
   "outputs": [
    {
     "name": "stdout",
     "output_type": "stream",
     "text": [
      "ClaudiaMelgarejo\n",
      "Claudia Melgarejo\n",
      "hola yo soy \"nombre\" apellido\n"
     ]
    }
   ],
   "source": [
    "nombre = \"Claudia\"\n",
    "apellido = 'Melgarejo'\n",
    "\n",
    "print(nombre + apellido)\n",
    "print(nombre + \" \" + apellido) # concatenamos texto\n",
    "\n",
    "\n",
    "print(f'hola yo soy {nombre} {apellido}')# concatenamos texto"
   ]
  },
  {
   "cell_type": "markdown",
   "metadata": {},
   "source": [
    "## Challenge 🤺 - 15m\n",
    "\n",
    "Asignar el nombre y el apellido de tu compañera/o a las variables nombre y apellido. Luego, imprimir una frase, utilizando las variables.\n",
    "\n",
    "EJEMPLO: \"Hola. Me llamo Claudia Melgarejo. Mucho gusto.\""
   ]
  },
  {
   "cell_type": "markdown",
   "metadata": {},
   "source": [
    "## Solucion de Patricia 🍓"
   ]
  },
  {
   "cell_type": "code",
   "execution_count": 25,
   "metadata": {},
   "outputs": [
    {
     "name": "stdout",
     "output_type": "stream",
     "text": [
      "hola yo soy Patricia Villalba. Mucho gusto\n"
     ]
    }
   ],
   "source": [
    "nombre1 = \"Patricia\"\n",
    "apellido1 = \"Villalba\" \n",
    "print(f\"hola yo soy {nombre1} {apellido1}. Mucho gusto\")"
   ]
  },
  {
   "cell_type": "markdown",
   "metadata": {},
   "source": [
    "## Solucion de Christian 🐷"
   ]
  },
  {
   "cell_type": "code",
   "execution_count": 26,
   "metadata": {},
   "outputs": [
    {
     "name": "stdout",
     "output_type": "stream",
     "text": [
      "hola me llamo Chuky Spezzini. Mucho gusto\n"
     ]
    }
   ],
   "source": [
    "nombre = \"Chuky\"\n",
    "apellido = \"Spezzini\"\n",
    "print (f\"hola me llamo {nombre} {apellido}. Mucho gusto\")"
   ]
  },
  {
   "cell_type": "markdown",
   "metadata": {},
   "source": [
    "## Obtener datos del usuario (Input)"
   ]
  },
  {
   "cell_type": "code",
   "execution_count": 34,
   "metadata": {},
   "outputs": [
    {
     "name": "stdout",
     "output_type": "stream",
     "text": [
      "1999\n"
     ]
    }
   ],
   "source": [
    "nombre_usuario = input(\"Ingrese su nombre\") # pedimos datos al usuario y lo guardamos en la variable\n",
    "print(nombre_usuario) "
   ]
  },
  {
   "cell_type": "markdown",
   "metadata": {},
   "source": [
    "## Tipos de datos"
   ]
  },
  {
   "cell_type": "code",
   "execution_count": 35,
   "metadata": {},
   "outputs": [
    {
     "name": "stdout",
     "output_type": "stream",
     "text": [
      "<class 'str'>\n"
     ]
    }
   ],
   "source": [
    "variable = True\n",
    "print(type(variable)) # obteniendo el tipo de dato de la variable "
   ]
  },
  {
   "cell_type": "code",
   "execution_count": 38,
   "metadata": {},
   "outputs": [
    {
     "name": "stdout",
     "output_type": "stream",
     "text": [
      "8\n"
     ]
    }
   ],
   "source": [
    "numero_1 = int(input(\"Ingrese un numero\")) # convertimos el dato ingresado a un integer\n",
    "numero_2 = int(input(\"Ingrese otro numero\")) # convertimos el dato ingresado a un integer\n",
    "\n",
    "print(numero_1 + numero_2) # sumamos los resultados"
   ]
  },
  {
   "cell_type": "markdown",
   "metadata": {},
   "source": [
    "### Challenge 🤺 - 15m\n",
    "\n",
    "Solicitar al usuario ingresar dos números y almacenarlos en dos variables. Luego, imprimir la suma de los dos números."
   ]
  },
  {
   "cell_type": "markdown",
   "metadata": {},
   "source": [
    "## Solucion de Leti ♥"
   ]
  },
  {
   "cell_type": "code",
   "execution_count": 39,
   "metadata": {},
   "outputs": [
    {
     "name": "stdout",
     "output_type": "stream",
     "text": [
      "30\n"
     ]
    }
   ],
   "source": [
    "numero_4 = int(input(\"ingrse un numero\"))\n",
    "numero_5 = int(input(\"ingrese otro numero\"))\n",
    "print(numero_4 + numero_5)"
   ]
  },
  {
   "cell_type": "markdown",
   "metadata": {},
   "source": [
    "## Solucion de Nico 🚗"
   ]
  },
  {
   "cell_type": "code",
   "execution_count": 40,
   "metadata": {},
   "outputs": [
    {
     "name": "stdout",
     "output_type": "stream",
     "text": [
      "55\n"
     ]
    }
   ],
   "source": [
    "n1= int(input(\"ingrese un numero\"))\n",
    "n2= int(input(\"ingresar un numero\"))\n",
    "print(n1+n2)"
   ]
  },
  {
   "cell_type": "markdown",
   "metadata": {},
   "source": [
    "## Solucion de Nelson 🔬"
   ]
  },
  {
   "cell_type": "code",
   "execution_count": 41,
   "metadata": {},
   "outputs": [
    {
     "name": "stdout",
     "output_type": "stream",
     "text": [
      "60\n"
     ]
    }
   ],
   "source": [
    "numero_1 = int(input(\"Ingrese un numero\"))\n",
    "numero_2 = int(input(\"ingrese otro numero\"))\n",
    "resultado = (numero_1 + numero_2)\n",
    "print(resultado)"
   ]
  },
  {
   "cell_type": "markdown",
   "metadata": {},
   "source": [
    "## Funciones"
   ]
  },
  {
   "cell_type": "code",
   "execution_count": 45,
   "metadata": {},
   "outputs": [
    {
     "name": "stdout",
     "output_type": "stream",
     "text": [
      "colgar ropa\n"
     ]
    }
   ],
   "source": [
    "def lavar_ropa(): # Creamos la funcion\n",
    "    print(\"Cargar agua\")\n",
    "    print(\"Enjabonar\")\n",
    "    print(\"Enjuagar\")\n",
    "    print(\"secar\")\n",
    "\n",
    "print(\"colgar ropa\")\n",
    "lavar_ropa() # Ejecutar funcion"
   ]
  },
  {
   "cell_type": "markdown",
   "metadata": {},
   "source": [
    "## Challenge 🤺 - 15m\n",
    "\n",
    "Crear una función de un proceso que se les ocurra que tenga varios pasos.\n",
    "Ejecutar la función 3 veces."
   ]
  },
  {
   "cell_type": "markdown",
   "metadata": {},
   "source": [
    "## Solucion de Chucky 🔪"
   ]
  },
  {
   "cell_type": "code",
   "execution_count": 47,
   "metadata": {},
   "outputs": [
    {
     "name": "stdout",
     "output_type": "stream",
     "text": [
      "batir manteca con azucar\n",
      "agregar vainilla y ralladura de naranja, volver a batir\n",
      "agregar dos huevos, y seguir batiendo\n",
      "agregar los secos, harina, cacao y polvo de hornear\n",
      "batir hasta tener una masa homogenea\n",
      "colocar la masa en los pirotines\n",
      "hornear\n",
      "disfrutar con un rico cafe\n",
      "batir manteca con azucar\n",
      "agregar vainilla y ralladura de naranja, volver a batir\n",
      "agregar dos huevos, y seguir batiendo\n",
      "agregar los secos, harina, cacao y polvo de hornear\n",
      "batir hasta tener una masa homogenea\n",
      "colocar la masa en los pirotines\n",
      "hornear\n",
      "disfrutar con un rico cafe\n",
      "batir manteca con azucar\n",
      "agregar vainilla y ralladura de naranja, volver a batir\n",
      "agregar dos huevos, y seguir batiendo\n",
      "agregar los secos, harina, cacao y polvo de hornear\n",
      "batir hasta tener una masa homogenea\n",
      "colocar la masa en los pirotines\n",
      "hornear\n",
      "disfrutar con un rico cafe\n"
     ]
    }
   ],
   "source": [
    "def preparar_cupcakes():\n",
    "        print(\"batir manteca con azucar\")\n",
    "        print(\"agregar vainilla y ralladura de naranja, volver a batir\")\n",
    "        print(\"agregar dos huevos, y seguir batiendo\")\n",
    "        print(\"agregar los secos, harina, cacao y polvo de hornear\")\n",
    "        print(\"batir hasta tener una masa homogenea\")\n",
    "        print(\"colocar la masa en los pirotines\")\n",
    "        print(\"hornear\")\n",
    "        print(\"disfrutar con un rico cafe\")\n",
    "preparar_cupcakes()\n",
    "preparar_cupcakes()\n",
    "preparar_cupcakes()"
   ]
  },
  {
   "cell_type": "markdown",
   "metadata": {},
   "source": [
    "## Solucion de Erik lml"
   ]
  },
  {
   "cell_type": "code",
   "execution_count": 48,
   "metadata": {},
   "outputs": [
    {
     "name": "stdout",
     "output_type": "stream",
     "text": [
      "agarramosel objeto\n",
      "acercamos a la persona\n",
      "entregamos al destinatario\n",
      "agarramosel objeto\n",
      "acercamos a la persona\n",
      "entregamos al destinatario\n",
      "agarramosel objeto\n",
      "acercamos a la persona\n",
      "entregamos al destinatario\n"
     ]
    }
   ],
   "source": [
    "def traer_objeto(): # Creamos la función\n",
    "    print(\"agarramosel objeto\")\n",
    "    print(\"acercamos a la persona\")\n",
    "    print(\"entregamos al destinatario\")\n",
    "traer_objeto() # Ejecutar proceso\n",
    "traer_objeto()\n",
    "traer_objeto()"
   ]
  },
  {
   "cell_type": "markdown",
   "metadata": {},
   "source": [
    "## Parametros y argumentos"
   ]
  },
  {
   "cell_type": "code",
   "execution_count": 58,
   "metadata": {},
   "outputs": [
    {
     "name": "stdout",
     "output_type": "stream",
     "text": [
      "hola, buen dia!!!\n",
      "chau!!!\n"
     ]
    }
   ],
   "source": [
    "def mi_nuevo_print(contenido): # creamos la funcion y definimos un parametro\n",
    "    print(f\"{contenido}!!!\")\n",
    "\n",
    "mi_nuevo_print(\"hola, buen dia\") # llamamos la funcion y definimos los argumentos\n",
    "mi_nuevo_print(\"chau\") # llamamos la funcion y definimos los argumentos\n"
   ]
  },
  {
   "cell_type": "code",
   "execution_count": 53,
   "metadata": {},
   "outputs": [
    {
     "name": "stdout",
     "output_type": "stream",
     "text": [
      "quiero un auto de la marca Kia que cueste menos de 5000000 del anho 2020\n",
      "quiero un auto de la marca VW que cueste menos de 62648590 del anho 2022\n"
     ]
    }
   ],
   "source": [
    "def comprar_auto(marca, precio, anho):\n",
    "    print(f\"quiero un auto de la marca {marca} que cueste menos de {precio} del anho {anho}\")\n",
    "\n",
    "comprar_auto(\"Kia\", \"5000000\", 2020) # primer cliente\n",
    "comprar_auto(\"VW\", 62648590, 2022)"
   ]
  },
  {
   "cell_type": "markdown",
   "metadata": {},
   "source": [
    "## Challenge 🤺 - 15m\n",
    "\n",
    "Escribir una funcion que nos pregunte las caracteriticas de un elemento a comprar e imprima el elemento con sus caracteristicas."
   ]
  },
  {
   "cell_type": "markdown",
   "metadata": {},
   "source": [
    "## Solucion de Ana Paula 😊"
   ]
  },
  {
   "cell_type": "code",
   "execution_count": 55,
   "metadata": {},
   "outputs": [
    {
     "name": "stdout",
     "output_type": "stream",
     "text": [
      "Mi empresa se llama Balmasch, somos de Ciudad del Este. Facturamos en promedio 200 millones al año y tenemos diez empleados en IPS.\n",
      "Mi empresa se llama Agro Santa Rosa, somos de Hernandarias. Facturamos en promedio 330 millones al año y tenemos tres empleados en IPS.\n"
     ]
    }
   ],
   "source": [
    "def tamaño_empresa(nombre, ciudad, facturacion, funcionarios):\n",
    "    print(f\"Mi empresa se llama {nombre}, somos de {ciudad}. Facturamos en promedio {facturacion} al año y tenemos {funcionarios} empleados en IPS.\")\n",
    "\n",
    "tamaño_empresa(\"Balmasch\", \"Ciudad del Este\", \"200 millones\", \"diez\") #cliente 1\n",
    "tamaño_empresa(\"Agro Santa Rosa\", \"Hernandarias\", \"330 millones\", \"tres\") #cliente 2"
   ]
  },
  {
   "cell_type": "markdown",
   "metadata": {},
   "source": [
    "## Solucion de Elias 🐰"
   ]
  },
  {
   "cell_type": "code",
   "execution_count": 56,
   "metadata": {},
   "outputs": [
    {
     "name": "stdout",
     "output_type": "stream",
     "text": [
      "quiero un scooter de la marca xiaomi que cueste menos de 4200000 del año 2022\n"
     ]
    }
   ],
   "source": [
    "def comprar_un_scooter ( marca,precio,año):\n",
    "    print(f\"quiero un scooter de la marca {marca} que cueste menos de {precio} del año {año}\")\n",
    "comprar_un_scooter(\"xiaomi\",4200000,2022)#primer cliente\n"
   ]
  },
  {
   "cell_type": "markdown",
   "metadata": {},
   "source": [
    "## Condicionales "
   ]
  },
  {
   "cell_type": "code",
   "execution_count": null,
   "metadata": {},
   "outputs": [],
   "source": [
    "edad = 17\n",
    "cedula = True\n",
    "\n",
    "if edad > 18: \n",
    "    print(\"Puede pasar\")\n",
    "elif cedula == True:\n",
    "    print(\"adelante\")\n",
    "else:\n",
    "    print(\"Es menor, no puede ingresar\")\n"
   ]
  },
  {
   "cell_type": "markdown",
   "metadata": {},
   "source": [
    "> -- mayor a \n",
    "< -- menor a \n",
    "== -- igual a \n",
    "!= -- diferente a \n",
    "and -- evalua si dos condiciones se cumplen\n",
    "or -- si una condicion se cumple\n",
    "not -- negacion \n"
   ]
  },
  {
   "cell_type": "markdown",
   "metadata": {},
   "source": [
    "## Mini challenge\n",
    "\n",
    "Evaluar si una persona puede comprar y/o tomar alcohol"
   ]
  },
  {
   "cell_type": "code",
   "execution_count": 61,
   "metadata": {},
   "outputs": [
    {
     "name": "stdout",
     "output_type": "stream",
     "text": [
      "Hace lo que quieras\n"
     ]
    }
   ],
   "source": [
    "edad = 40\n",
    "\n",
    "if edad < 18:\n",
    "    print(\"Toma jugo ades\")\n",
    "elif edad >= 18 and edad <= 21:\n",
    "    print(\"Compra callado\")\n",
    "else:\n",
    "    print(\"Hace lo que quieras\")"
   ]
  },
  {
   "cell_type": "markdown",
   "metadata": {},
   "source": [
    "### Challenge 🤺 - 20m\n",
    "\n",
    "Escribir un programa en el que se pregunte al usuario por una temperatura (en grados Celsius), imprima la temperatura escrita, y luego clasificar la temperatura ingresada en los siguientes niveles:\n",
    "\n",
    "Entre -10 y 18 grados, que imprima \"Fresquete\".\n",
    "Entre 19 y 30 grados, que imprima \"Calor'i\".\n",
    "Entre 31 y 45 grados, que imprima \"Hakuuuuuu\".\n",
    "Para todo lo demás, imprimir \"Ñamano mba'e!\"."
   ]
  },
  {
   "cell_type": "markdown",
   "metadata": {},
   "source": [
    "## Solucion de Amado 💗"
   ]
  },
  {
   "cell_type": "code",
   "execution_count": 70,
   "metadata": {},
   "outputs": [
    {
     "name": "stdout",
     "output_type": "stream",
     "text": [
      "True\n",
      "18° Fresquete\n"
     ]
    }
   ],
   "source": [
    "temperatura = int(input(\"Cual es la temperatura del momento?\")) \n",
    "frio = temperatura <= 18 and temperatura >= -11\n",
    "print(frio)\n",
    "\n",
    "if frio:\n",
    "    print(f\"{temperatura}° Fresquete\")\n",
    "elif temperatura >18 and temperatura <31:\n",
    "    print(f\"{temperatura}° Calor'i\")\n",
    "elif temperatura > 30 and temperatura < 46:\n",
    "    print(f\"{temperatura}° Hakuuuu\")\n",
    "else:\n",
    "    print (f\"{temperatura}° Ñamano mba'e\")"
   ]
  },
  {
   "cell_type": "markdown",
   "metadata": {},
   "source": [
    "## Solucion de Rocio 🍕"
   ]
  },
  {
   "cell_type": "code",
   "execution_count": 71,
   "metadata": {},
   "outputs": [
    {
     "name": "stdout",
     "output_type": "stream",
     "text": [
      "ñamano mba'e\n"
     ]
    }
   ],
   "source": [
    "tiempo_hoy = int(input(\"Escriba el numero en ºC\")) #primero se le consulta al usuario el numero\n",
    "\n",
    "def temperatura_hoy(temperatura_user): #luego se crea la función que va a clasificar la temperatura dada por el user\n",
    "\n",
    "    if temperatura_user >=-10 and temperatura_user <=18:  #si la temperatura del user es mayor a/igual a -10 y menor/igual a 18, imprimir Fresquete \n",
    "        print(\"Fresquete\")                                #el print debe estar en una jerarquia menor a la condicional\n",
    "    elif temperatura_user >=19 and temperatura_user <=30:\n",
    "        print(\"Calor'i\")\n",
    "    elif temperatura_user >=31 and temperatura_user <=45:\n",
    "        print(\"Hakuuuuuu\")\n",
    "    else:\n",
    "        print(\"ñamano mba'e\")\n",
    "\n",
    "temperatura_hoy(tiempo_hoy)\n"
   ]
  },
  {
   "cell_type": "markdown",
   "metadata": {},
   "source": [
    "### Challenge 🤺 - 20m\n",
    "\n",
    "Escribir una funcion que pida como parametro un usuario y contrasenha. Luego compararlo con un usuario y contrasenha ya definido anteriormente."
   ]
  },
  {
   "cell_type": "markdown",
   "metadata": {},
   "source": [
    "## Solucion Cristhian 🃏"
   ]
  },
  {
   "cell_type": "code",
   "execution_count": 2,
   "metadata": {},
   "outputs": [
    {
     "name": "stdout",
     "output_type": "stream",
     "text": [
      "Usuario definido previamente es: Cristhian\n",
      "La contrasenha definida previamente es: uno1\n",
      "\n",
      "El usuario a comparar es: Cristhian\n",
      "La contrasenha a comparar es: uno1\n",
      "\n",
      "Los usuarios son iguales\n",
      "Las contrasenhas son iguales\n",
      "Acceso correcto\n",
      "\n",
      "Dato curioso: HxH > One Piece =)\n"
     ]
    }
   ],
   "source": [
    "# Usuario y contrasenha predefinidos\n",
    "\n",
    "usuario_1 = \"Cristhian\"  # usuario definido previamente\n",
    "contrasenha_1 = \"uno1\"   # contrasenha definida previamente\n",
    "\n",
    "print(f\"Usuario definido previamente es: {usuario_1}\")\n",
    "print(f\"La contrasenha definida previamente es: {contrasenha_1}\")\n",
    "\n",
    "\n",
    "\n",
    "# Funcion que pida como parametro Usuario y contrasenha\n",
    "\n",
    "def comparar_contra(usuario_2, contrasenha_2):        # crear funcion para comparar usuario y contrasenha\n",
    "\n",
    "    print('')\n",
    "    print(f'El usuario a comparar es: {usuario_2}')             # usuario2: es el nuevo usuario a comparar con el predefinido\n",
    "    print(f\"La contrasenha a comparar es: {contrasenha_2}\")     # contrasenha2: es la nueeva contrasenha a comparar con el predefinido\n",
    "    print('')\n",
    "\n",
    "    c = 0   # contador\n",
    "\n",
    "    if usuario_1 == usuario_2:                        # comparamos ambos usuarios\n",
    "        print(\"Los usuarios son iguales\")\n",
    "        c=c+1\n",
    "    else:\n",
    "        print('Los usuarios son distintos')\n",
    "\n",
    "    if contrasenha_1 == contrasenha_2:                # comparamos ambas contrasenhas\n",
    "        print(\"Las contrasenhas son iguales\")\n",
    "        c=c+1\n",
    "    else:\n",
    "        print('Las contrasenhas son distintas')\n",
    "\n",
    "    if c == 2:                                        # compara si los usuarios y las contrasenhas son iguales\n",
    "        print('Acceso correcto')\n",
    "    else:\n",
    "        print('Acceso denegado')\n",
    "\n",
    "    c = 0   # cerar\n",
    "\n",
    "comparar_contra(usuario_2 = input(\"Nombre de usuario: \"), contrasenha_2 = input(\"La contrasenha es: \"))     # llamamos la funcion\n",
    "\n",
    "print('')\n",
    "print('Dato curioso: HxH > One Piece =)')"
   ]
  },
  {
   "cell_type": "markdown",
   "metadata": {},
   "source": [
    "## Solucion de Eve 🐺"
   ]
  },
  {
   "cell_type": "code",
   "execution_count": 4,
   "metadata": {},
   "outputs": [
    {
     "name": "stdout",
     "output_type": "stream",
     "text": [
      "True\n",
      "True\n"
     ]
    }
   ],
   "source": [
    "usuario = \"evelyn\"\n",
    "usuarioo = (input(\"ingrese su usuarioo\"))\n",
    "print(usuarioo == usuario)\n",
    "\n",
    "contraseña = \"343966\"\n",
    "contraseñaa = (input(\"ingrese su contraseñaa\"))\n",
    "print(contraseñaa == contraseña)"
   ]
  }
 ],
 "metadata": {
  "kernelspec": {
   "display_name": "Python 3.10.8 64-bit",
   "language": "python",
   "name": "python3"
  },
  "language_info": {
   "codemirror_mode": {
    "name": "ipython",
    "version": 3
   },
   "file_extension": ".py",
   "mimetype": "text/x-python",
   "name": "python",
   "nbconvert_exporter": "python",
   "pygments_lexer": "ipython3",
   "version": "3.10.8"
  },
  "orig_nbformat": 4,
  "vscode": {
   "interpreter": {
    "hash": "e593ac106456af50ce7af38f9671c411b49d6cd90f9b885e167f0f594e09038c"
   }
  }
 },
 "nbformat": 4,
 "nbformat_minor": 2
}
