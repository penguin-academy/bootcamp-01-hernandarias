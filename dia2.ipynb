{
 "cells": [
  {
   "cell_type": "markdown",
   "metadata": {},
   "source": [
    "## While (bucle iterativo)"
   ]
  },
  {
   "cell_type": "code",
   "execution_count": null,
   "metadata": {},
   "outputs": [],
   "source": [
    "numero = 3 # predefinimos nuestra variable\n",
    "numero_secreto = 0 # creamos el numero a adivinar\n",
    "while numero != numero_secreto: # creamos y condicionamos nuestro bucle\n",
    "    numero = int(input(\"Ingrese un numero\"))\n",
    "    print(numero)\n",
    "    print(\"Numero incorrecto\")\n",
    "\n",
    "print(\"numero correcto\") # salimos del bucle e imprimimos el mensaje"
   ]
  },
  {
   "cell_type": "code",
   "execution_count": null,
   "metadata": {},
   "outputs": [],
   "source": [
    "palabra = \"manzana\"\n",
    "\n",
    "while palabra != \"hola\":\n",
    "    palabra = input(\"ingrese una palabra\")\n",
    "    print(\"palabra incorrecta\")\n",
    "\n",
    "print(\"palabra correcta\")"
   ]
  },
  {
   "cell_type": "code",
   "execution_count": null,
   "metadata": {},
   "outputs": [],
   "source": [
    "numero = 1\n",
    "while True: # creamos un bucle infinito\n",
    "    numero_ingresado = int(input(\"Ingrese un numero\"))\n",
    "    if numero_ingresado == numero:\n",
    "        print(\"numero correcto\")\n",
    "        break # rompemos nuestro bucle \n",
    "    else:\n",
    "        print(\"numero incorrecto\")\n",
    "\n",
    "print(\"fin del juego\") # salimos del bucle e imprimimos el mensaje"
   ]
  },
  {
   "cell_type": "markdown",
   "metadata": {},
   "source": [
    "### Challenge 🤺 - 15m\n",
    "\n",
    "Escribir un programa que almacene una contraseña en una variable, y pregunte al usuario por la contraseña hasta que introduzca la contraseña correcta.\n",
    "\n",
    "Cuando el usuario ingrese la contrasena correcta, imprimir un mensaje secreto."
   ]
  },
  {
   "cell_type": "markdown",
   "metadata": {},
   "source": [
    "## Solucion de Nico 🚗"
   ]
  },
  {
   "cell_type": "code",
   "execution_count": null,
   "metadata": {},
   "outputs": [],
   "source": [
    "con  = 25\n",
    "while True :\n",
    "    pas = int(input(\"passworld\"))\n",
    "    if pas != con:\n",
    "        print(\"puta madre\") \n",
    "    if pas == con: \n",
    "        print(\"correcto\")\n",
    "        print(\"welcome motherfucker\")\n",
    "        break\n",
    "\n",
    "\n",
    "print(\"yeah perdonen kamehameha\")"
   ]
  },
  {
   "cell_type": "markdown",
   "metadata": {},
   "source": [
    "## Solucion de Erik 😀"
   ]
  },
  {
   "cell_type": "code",
   "execution_count": null,
   "metadata": {},
   "outputs": [],
   "source": [
    "create_pass = input(\"Cree su contraseña\") # el iusuario crea su contraseña\n",
    "print(create_pass) \n",
    "unknow_access = True\n",
    "cont = 5\n",
    "while unknow_access or cont !=0:\n",
    "    access_pass = input(\"Ingrese su contraseña\")\n",
    "    if create_pass == access_pass:\n",
    "        print(\"Acceso correcto\")\n",
    "        unknow_access = False\n",
    "        break\n",
    "    else:\n",
    "        print(\"La contraseña es incorrecta, favor ingresar la contraseña correcta\")\n",
    "        cont = cont - 1\n",
    "        if cont == 0:\n",
    "            print(\"Haz agotado tus intentos\")\n",
    "            break"
   ]
  },
  {
   "cell_type": "markdown",
   "metadata": {},
   "source": [
    "## Listas"
   ]
  },
  {
   "cell_type": "code",
   "execution_count": null,
   "metadata": {},
   "outputs": [],
   "source": [
    "lista = [1234, \"hola\", 12.9, True]\n",
    "\n",
    "# Acceder y manipular elementos \n",
    "\n",
    "print(lista[0])\n",
    "print(lista[2])\n",
    "\n",
    "# Añadir elementos a una lista\n",
    "lista.append(\"manzana\")\n",
    "print(lista)\n",
    "\n",
    "# modificar elementos\n",
    "lista[0] = \"pera\"\n",
    "print(lista)\n",
    "\n",
    "lista.append(\"1234\")\n",
    "print(lista)\n",
    "\n",
    "# Eliminar eleemntos de una lista por valor especifico\n",
    "lista.remove(12.9)\n",
    "print(lista)\n",
    "\n",
    "# Eliminar elementos por su posicion\n",
    "lista.pop(1)\n",
    "print(lista)\n",
    "\n",
    "# contar elementos de una lista\n",
    "cantidad_de_elementos = len(lista)\n",
    "print(cantidad_de_elementos)"
   ]
  },
  {
   "cell_type": "markdown",
   "metadata": {},
   "source": [
    "### Challenge 🤺 - 20m\n",
    "\n",
    "Crear una lista de 5 elementos. Luego, seguir los siguientes pasos.\n",
    "\n",
    "- Agregar un elemento al final de la lista.\n",
    "\n",
    "- Modificar el segundo elemento.\n",
    "\n",
    "- Eliminar el tercer elemento."
   ]
  },
  {
   "cell_type": "markdown",
   "metadata": {},
   "source": [
    "## Solucion de Erik 😁"
   ]
  },
  {
   "cell_type": "code",
   "execution_count": null,
   "metadata": {},
   "outputs": [],
   "source": [
    "clubes = [\"Barcelona\", \"Real Madrid\", \"Arsenal\", \"A.C. Milan\", \"Juventus\"]\n",
    "print(clubes)\n",
    "clubes.append(\"Borussia Dortmund\")\n",
    "clubes[1] = \"Manchester United\"\n",
    "print(clubes)\n",
    "clubes.pop(2)\n",
    "print(clubes)"
   ]
  },
  {
   "cell_type": "markdown",
   "metadata": {},
   "source": [
    "## Solucion de Nelson 🔬"
   ]
  },
  {
   "cell_type": "code",
   "execution_count": null,
   "metadata": {},
   "outputs": [],
   "source": [
    "placa = [\"resistencia\",\"bobina\",\"capacitor\",\"diodo\",\"circuito\"]\n",
    "\n",
    "print(placa [2])\n",
    "\n",
    "placa.append(\"swicht\")\n",
    "print(placa)\n",
    "\n",
    "placa [1] = \"diodo_zener\"\n",
    "print(placa)\n",
    "\n",
    "placa.pop(2) \n",
    "print(placa)"
   ]
  },
  {
   "cell_type": "markdown",
   "metadata": {},
   "source": [
    "## Bucle iterativo (for)"
   ]
  },
  {
   "cell_type": "code",
   "execution_count": null,
   "metadata": {},
   "outputs": [],
   "source": [
    "for iterador in range(5): # definimos nuestro bucle para que itere en un rago de x numeros\n",
    "    frutas = input(\"ingrese tu frutra favorita\") # pedimos al usuario un dato\n",
    "    print(frutas) "
   ]
  },
  {
   "cell_type": "code",
   "execution_count": null,
   "metadata": {},
   "outputs": [],
   "source": [
    "for numero in range(10): # definimos nuestro bucle para que itere en un rago de x numeros\n",
    "    suma = numero + 2 # sumamos el iterados con 2\n",
    "    print(suma)"
   ]
  },
  {
   "cell_type": "markdown",
   "metadata": {},
   "source": [
    "### Challenge 🤺 - 20m\n",
    "\n",
    "Escribir un programa que itere en un rango de 10 veces. Por cada iteracion multiplicar el iterador por dos e imprimir el resultado."
   ]
  },
  {
   "cell_type": "markdown",
   "metadata": {},
   "source": [
    "## Solucion de Maria 🍹"
   ]
  },
  {
   "cell_type": "code",
   "execution_count": null,
   "metadata": {},
   "outputs": [],
   "source": [
    "for numero in range(10):\n",
    "    multiplicacion = numero * 2\n",
    "    print(multiplicacion)"
   ]
  },
  {
   "cell_type": "markdown",
   "metadata": {},
   "source": [
    "## Iterar listas"
   ]
  },
  {
   "cell_type": "code",
   "execution_count": null,
   "metadata": {},
   "outputs": [],
   "source": [
    "lista_de_super = [\"papel\", \"yerba\", \"agua\"] # creamos una lista\n",
    "\n",
    "for elemento in lista_de_super: # definimos nuestro for para que itere en los elementos de la lista\n",
    "    print(elemento)"
   ]
  },
  {
   "cell_type": "markdown",
   "metadata": {},
   "source": [
    "## Iterar strings"
   ]
  },
  {
   "cell_type": "code",
   "execution_count": null,
   "metadata": {},
   "outputs": [],
   "source": [
    "for letra in \"hola\": # definimos nuestro for para que itere en la palabra\n",
    "    print(letra)"
   ]
  },
  {
   "cell_type": "code",
   "execution_count": null,
   "metadata": {},
   "outputs": [],
   "source": [
    "for iterador in \"buen dia\": # definimos nuestro for para que itere en la frase\n",
    "    print(iterador)"
   ]
  },
  {
   "cell_type": "code",
   "execution_count": null,
   "metadata": {},
   "outputs": [],
   "source": [
    "cantidad_de_palabras = \"hola buen dia como estas\" # definimos nuestro for para que itere en la frase\n",
    "print(len(cantidad_de_palabras))"
   ]
  },
  {
   "cell_type": "markdown",
   "metadata": {},
   "source": [
    "### Challenge 🤺 - 20m\n",
    "\n",
    "Recorrer los elementos de una lista de palabras e imprimir cada palabra *__solamente__* si tiene 6 letras o más."
   ]
  },
  {
   "cell_type": "markdown",
   "metadata": {},
   "source": [
    "## Solucion de Christian 😀"
   ]
  },
  {
   "cell_type": "code",
   "execution_count": null,
   "metadata": {},
   "outputs": [],
   "source": [
    "lista_a_publicar = []\n",
    "\n",
    "for i in range(4):\n",
    "    lista_palabras = input(\"ingresar item\")\n",
    "    lista_a_publicar.append(lista_palabras)\n",
    "\n",
    "print(\"Lista Original\")\n",
    "print(\"-------------------\")\n",
    "\n",
    "for i in lista_a_publicar:\n",
    "        print(i) \n",
    "\n",
    "print(\"\")\n",
    "\n",
    "print(\"Lista Depurada:\")\n",
    "print(\"-------------------\")\n",
    "\n",
    "for i in lista_a_publicar:\n",
    "    if len(i) >= 6:\n",
    "        print(i)"
   ]
  },
  {
   "cell_type": "markdown",
   "metadata": {},
   "source": [
    "## Solucion de Nico 🚗"
   ]
  },
  {
   "cell_type": "code",
   "execution_count": null,
   "metadata": {},
   "outputs": [],
   "source": [
    "uchihas = [\"sasuke\" ,\"obito\",\"madara\",\"shisui\",\"itachi\",\"kagami\",\"ai\",\"tu hermana\",\"sai\"]\n",
    "\n",
    "for clan in uchihas :\n",
    "    if len(clan) >= 6:\n",
    "        print(clan)"
   ]
  },
  {
   "cell_type": "markdown",
   "metadata": {},
   "source": [
    "## Wordle "
   ]
  },
  {
   "cell_type": "markdown",
   "metadata": {},
   "source": [
    "Necesitamos:\n",
    "\n",
    "- Variables\n",
    "- Tipos de datos\n",
    "- Concatenacion\n",
    "- Operadores logicos\n",
    "- Condicionales\n",
    "- Funciones\n",
    "- Bucles"
   ]
  },
  {
   "cell_type": "markdown",
   "metadata": {},
   "source": [
    "## Variables "
   ]
  },
  {
   "cell_type": "code",
   "execution_count": null,
   "metadata": {},
   "outputs": [],
   "source": [
    "palabra = \"calor\" # String -- Str\n",
    "numeros = 245 # Integer -- Int\n",
    "decimales = 8.9 # Floating -- Float\n",
    "booleanos = True # Booleanos -- Bool"
   ]
  },
  {
   "cell_type": "markdown",
   "metadata": {},
   "source": [
    "## Concatenacion"
   ]
  },
  {
   "cell_type": "code",
   "execution_count": null,
   "metadata": {},
   "outputs": [],
   "source": [
    "nombre = \"Alfred\"\n",
    "apellido = \"Riveros\"\n",
    "\n",
    "print(f\"Hola, yo soy {nombre} {apellido}\")"
   ]
  },
  {
   "cell_type": "markdown",
   "metadata": {},
   "source": [
    "## Operadores logicos"
   ]
  },
  {
   "cell_type": "code",
   "execution_count": 1,
   "metadata": {},
   "outputs": [
    {
     "name": "stdout",
     "output_type": "stream",
     "text": [
      "False\n",
      "True\n"
     ]
    }
   ],
   "source": [
    "# ==, !=, >, <, >=, <=, and, or, in, not\n",
    "\n",
    "letra1 = \"a\"\n",
    "letra2 = \"b\"\n",
    "\n",
    "letras_son_iguales = letra1 == letra2\n",
    "print(letras_son_iguales)\n",
    "\n",
    "# in \n",
    "palabra = \"perro\"\n",
    "letra = \"p\"\n",
    "\n",
    "letras_existe_en_palabra = letra in palabra \n",
    "print(letras_existe_en_palabra)"
   ]
  },
  {
   "cell_type": "markdown",
   "metadata": {},
   "source": [
    "## Condicionales "
   ]
  },
  {
   "cell_type": "code",
   "execution_count": null,
   "metadata": {},
   "outputs": [],
   "source": [
    "if letras_existe_en_palabra:\n",
    "    print(\"la letra existe\")\n",
    "else:\n",
    "    print(\"la letra no existe\")"
   ]
  },
  {
   "cell_type": "markdown",
   "metadata": {},
   "source": [
    "## Funciones"
   ]
  },
  {
   "cell_type": "code",
   "execution_count": null,
   "metadata": {},
   "outputs": [],
   "source": [
    "def imprimir_saludo():\n",
    "    print(\"hola buen dia como estas\")\n",
    "\n",
    "imprimir_saludo()\n",
    "imprimir_saludo()"
   ]
  },
  {
   "cell_type": "markdown",
   "metadata": {},
   "source": [
    "## Challenge 1 🤺 - 15m\n",
    "\n",
    "Crear una función que imprima la variable palabra."
   ]
  },
  {
   "cell_type": "markdown",
   "metadata": {},
   "source": [
    "## Solucion de Leti 🥰"
   ]
  },
  {
   "cell_type": "code",
   "execution_count": null,
   "metadata": {},
   "outputs": [],
   "source": [
    "def imprimime (palabra) :\n",
    "    print(palabra)\n",
    "\n",
    "imprimime (\"palabra\")"
   ]
  },
  {
   "cell_type": "markdown",
   "metadata": {},
   "source": [
    "## Solucion de Nico 🚗"
   ]
  },
  {
   "cell_type": "code",
   "execution_count": null,
   "metadata": {},
   "outputs": [],
   "source": [
    "def funcion():\n",
    "    variable = input(\"Ingrese una palabra\")\n",
    "    print(variable)\n",
    "funcion()"
   ]
  },
  {
   "cell_type": "markdown",
   "metadata": {},
   "source": [
    "## Parametros y argumentos"
   ]
  },
  {
   "cell_type": "code",
   "execution_count": null,
   "metadata": {},
   "outputs": [],
   "source": [
    "def sumar(num1, num2):\n",
    "    suma = num1 + num2\n",
    "    print(suma)\n",
    "sumar(6, 9)"
   ]
  },
  {
   "cell_type": "markdown",
   "metadata": {},
   "source": [
    "## Challenge 2 🤺 - 15 min\n",
    "Crear una función que reciba dos letras (parámetros) y que verifique si son iguales:\n",
    "\n",
    "1. Si son iguales, imprimir \"Las letras son iguales\".\n",
    "\n",
    "2. De lo contrario, imprimir \"Las letras son diferentes\"."
   ]
  },
  {
   "cell_type": "markdown",
   "metadata": {},
   "source": [
    "## Solucion de Marcel 🦊"
   ]
  },
  {
   "cell_type": "code",
   "execution_count": null,
   "metadata": {},
   "outputs": [],
   "source": [
    "def letras (letra_1, letra_2):\n",
    "    if letra_1 == letra_2:\n",
    "        print(\"Las letras son iguales\")\n",
    "    else:\n",
    "        print(\"Las letras son diferentes\")\n",
    "letras(\"a\",\"d\")\n",
    "letras(\"d\",\"d\")"
   ]
  },
  {
   "cell_type": "markdown",
   "metadata": {},
   "source": [
    "## Solucion de Elias 🐰"
   ]
  },
  {
   "cell_type": "code",
   "execution_count": null,
   "metadata": {},
   "outputs": [],
   "source": [
    "def funcion(x , y):\n",
    "    if x == y : \n",
    "\n",
    "        print(\"las letras son iguales\")\n",
    "    else:\n",
    "\n",
    "        print(\"las letras son diferentes\")\n",
    "\n",
    "funcion(\"s\",\"x\")"
   ]
  },
  {
   "cell_type": "markdown",
   "metadata": {},
   "source": [
    "## Return"
   ]
  },
  {
   "cell_type": "code",
   "execution_count": null,
   "metadata": {},
   "outputs": [],
   "source": [
    "def sumar(): # definimos nuestra funcion\n",
    "    num1 = int(input('ingrese un numero'))\n",
    "    num2 = int(input('ingrese un numero'))\n",
    "    suma = num1 + num2\n",
    "    return suma # retornar nuestra suma\n",
    "resultado = sumar() # guardamos nuestra funcion en una variable\n",
    "sumar2 = resultado - 5000 \n",
    "print(sumar2)"
   ]
  },
  {
   "cell_type": "code",
   "execution_count": null,
   "metadata": {},
   "outputs": [],
   "source": [
    "def comprar_libros():\n",
    "    libro1 = 50000\n",
    "    libro2 = 100000\n",
    "    sumar = libro1 + libro2\n",
    "    print(sumar)\n",
    "    return sumar\n",
    "    \n",
    "total = comprar_libros()\n",
    "\n",
    "extra = total + 5000\n",
    "print(extra)"
   ]
  }
 ],
 "metadata": {
  "kernelspec": {
   "display_name": "Python 3.10.8 64-bit",
   "language": "python",
   "name": "python3"
  },
  "language_info": {
   "codemirror_mode": {
    "name": "ipython",
    "version": 3
   },
   "file_extension": ".py",
   "mimetype": "text/x-python",
   "name": "python",
   "nbconvert_exporter": "python",
   "pygments_lexer": "ipython3",
   "version": "3.10.8"
  },
  "orig_nbformat": 4,
  "vscode": {
   "interpreter": {
    "hash": "e593ac106456af50ce7af38f9671c411b49d6cd90f9b885e167f0f594e09038c"
   }
  }
 },
 "nbformat": 4,
 "nbformat_minor": 2
}
